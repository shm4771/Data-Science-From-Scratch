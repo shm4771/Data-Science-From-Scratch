{
 "cells": [
  {
   "cell_type": "code",
   "execution_count": 180,
   "metadata": {},
   "outputs": [],
   "source": [
    "import numpy as np\n",
    "import matplotlib.pyplot as plt"
   ]
  },
  {
   "cell_type": "code",
   "execution_count": 181,
   "metadata": {},
   "outputs": [],
   "source": [
    "from keras.datasets import mnist"
   ]
  },
  {
   "cell_type": "code",
   "execution_count": 23,
   "metadata": {},
   "outputs": [],
   "source": [
    "class Conv:\n",
    "    def __init__(self, input_shape, filter_shape, num_filters=8):\n",
    "        \"\"\"\n",
    "        input_shape -> channels * height * width\n",
    "        filter_shape -> filter height * filter width\n",
    "        num_filters -> number of filters\n",
    "        output_shape -> num_filters * height_out * width_out\n",
    "        \"\"\"\n",
    "\n",
    "        \"\"\"\n",
    "        Notations\n",
    "        c ->  channels\n",
    "        h -> image height\n",
    "        w -> image width\n",
    "        f -> number of filters\n",
    "        fh -> filter height\n",
    "        fw -> filter width\n",
    "        h_out -> output image height\n",
    "        w_out -> output image width\n",
    "        \"\"\"\n",
    "        \n",
    "        self.input_shape = (1,) + input_shape #input shape (1, c, h, w)\n",
    "        self.filter_shape = (num_filters, self.input_shape[1], *filter_shape)#filter shape (f, c, fh,fw)\n",
    "        \n",
    "        # filter initialization (f * c * fh * fw)\n",
    "        c, fh, fw = self.filter_shape[1:]\n",
    "        self.filters = np.random.randn(*self.filter_shape)/(fh * fw * c) # dividing by (fh*fw) is important for xavier initialization\n",
    "        self.b = np.zeros(self.filter_shape[0])  #bias term initialization\n",
    "    \n",
    "    def get_output_shape(self):\n",
    "        \"\"\" returns the shape of the output of convolution operation\"\"\"\n",
    "        h_out = self.input_shape[2] + 1 - self.filter_shape[2] #stride has been taken as 1\n",
    "        w_out = self.input_shape[3] + 1 - self.filter_shape[3] #stride has been taken as 1\n",
    "        return (self.filter_shape[0], h_out, w_out) #output shape (f, h_out, w_out)\n",
    "        \n",
    "        \n",
    "    def iter_input(self, input_data, fh, fw, h_iter, w_iter):\n",
    "        \"\"\" returns the slices of input data.\n",
    "            fh, fw -> filter heights, filter widths\n",
    "            h_iter, w_iter -> number of steps \"\"\"\n",
    "        for i in range(h_iter):\n",
    "            for j in range(w_iter):\n",
    "                img = input_data[:, :, i:i+fh, j:j+fw]\n",
    "                yield i, j, img\n",
    "        \n",
    "    def forward(self, input_data, padding=False):\n",
    "        \"\"\" computes output of layer on given input of shape (c, h, w) \"\"\"\n",
    "        input_data = input_data[np.newaxis, ...] #convert input data in shape (1, c, h, w)\n",
    "        self.last_input = input_data #input saved for backprop phase\n",
    "        \n",
    "        h_out, w_out = self.get_output_shape()[1:] \n",
    "        fh, fw = self.filter_shape[2:]\n",
    "        output = np.zeros(self.get_output_shape()) # (f, h_out, w_out) \n",
    "        \n",
    "        for i, j, img_area in self.iter_input(input_data, fh, fw, h_out, w_out):\n",
    "            output[:,i,j] = np.sum(self.filters * img_area, axis=(1, 2, 3)) + self.b #we are collapsing h,w dimensions by finding sum\n",
    "        return output\n",
    "    \n",
    "    \n",
    "    def backward(self, gradients, learn_rate=0.005):\n",
    "        \"\"\" accept gradients as input in shape of (f, h_out, w_out) and \n",
    "        returns gradients as output in shape of (c, h, w) \"\"\"\n",
    "        #print(\"max grad\", np.max(gradients), np.min(gradients))\n",
    "        gradients = gradients.reshape((self.filter_shape[0], 1, gradients.shape[1], gradients.shape[2]))#convert gradients in shape (f, 1, h_out, w_out)\n",
    "        \n",
    "        #gradient terms intialization\n",
    "        grad_filters = np.zeros(self.filters.shape)\n",
    "        grad_b = np.zeros_like(self.b)\n",
    "        grad_x = np.zeros(self.input_shape) #gradienst w. r. t. inputs\n",
    "        \n",
    "        grad_b = np.sum(gradients, axis=(1,2,3)) #easy huh? :)\n",
    "        \n",
    "        fh, fw = gradients.shape[2:] #filter sizes\n",
    "        h_steps, w_steps = self.filter_shape[2:] #filter steps in both direction \n",
    "        for i, j, img_area in self.iter_input(self.last_input, fh, fw, h_steps, w_steps):\n",
    "            grad_filters[:, :, i, j] = np.sum(img_area * gradients, axis=(2, 3)) \n",
    "        \n",
    "        #update the gradients of the filters \n",
    "        #print(\"grad filters\", grad_filters)\n",
    "        #print(\"grad b\", grad_b)\n",
    "        self.grad_filters = grad_filters\n",
    "        self.grad_b = grad_b\n",
    "        self.filters -= learn_rate * grad_filters\n",
    "        self.b -= learn_rate * grad_b\n",
    "        #print(\"grad filter max\", np.max(grad_filters))\n",
    "        #what about grad_x :(\n",
    "        return None"
   ]
  },
  {
   "cell_type": "code",
   "execution_count": 53,
   "metadata": {},
   "outputs": [
    {
     "name": "stdout",
     "output_type": "stream",
     "text": [
      "[[[1 0]\n",
      "  [0 1]]]\n",
      "[[0.58758998 0.        ]\n",
      " [0.         0.58758998]]\n",
      "[[0.58758998]]\n",
      "[0. 0. 0.]\n"
     ]
    }
   ],
   "source": [
    "conv = Conv((1, 2, 2), (1, 1), 3)\n",
    "img = np.array([[[1, 0], [0, 1]]])\n",
    "out = conv.forward(img)\n",
    "print(img)\n",
    "print(out[0])\n",
    "print(conv.filters[0, 0])\n",
    "print(conv.b)"
   ]
  },
  {
   "cell_type": "code",
   "execution_count": 186,
   "metadata": {},
   "outputs": [],
   "source": [
    "class Maxpool:\n",
    "    #this will apply max function to the input obtained from Conv layer\n",
    "    def __init__(self, input_shape, pool_size=2):\n",
    "        self.input_shape = input_shape\n",
    "        self.pool_size = pool_size\n",
    "        \n",
    "    def get_output_shape(self):\n",
    "        self.output_shape = list(self.input_shape)\n",
    "        self.output_shape[0] = self.input_shape[0] // self.pool_size\n",
    "        self.output_shape[1] = self.input_shape[1] // self.pool_size\n",
    "        return tuple(self.output_shape)\n",
    "    \n",
    "    def iter_input(self, input_data):\n",
    "        output_shape = self.get_output_shape()\n",
    "        out_h, out_w = output_shape[0], output_shape[1]\n",
    "        for i in range(out_h):\n",
    "            for j in range(out_w):\n",
    "                yield input_data[self.pool_size*i:self.pool_size*(i+1), self.pool_size*j:self.pool_size*(j+1)], i, j\n",
    "    \n",
    "    def forward(self, input_data):\n",
    "        \"\"\" This function computes output after applying max filter\"\"\"\n",
    "        self.last_input = input_data #saving data for backprop\n",
    "        output = np.zeros(self.get_output_shape())\n",
    "        for img_area, i, j in self.iter_input(input_data):\n",
    "            out = np.amax(img_area, axis=(0, 1))\n",
    "            output[i, j] = out\n",
    "        return output\n",
    "        \n",
    "    def backward(self, gradients, learn_rate=0.03):\n",
    "        \"\"\" take gradients of shape (w,h,t,f1, f2, ...) as input and \n",
    "        returns gradients as output in the same shape\"\"\"\n",
    "        \n",
    "        h, w = self.last_input.shape[0], self.last_input.shape[0]\n",
    "        h_out, w_out = gradients.shape[0], gradients.shape[1]\n",
    "    \n",
    "        total_entries = np.array(self.last_input.shape).prod()\n",
    "        changed_last_inputs = self.last_input.reshape((w,h, int(total_entries/(w*h))))\n",
    "        out_grad = np.zeros(changed_last_inputs.shape)\n",
    "        changed_gradients = gradients.reshape((w_out, h_out, changed_last_inputs.shape[2]))\n",
    "        \n",
    "        for img_area, i, j in self.iter_input(changed_last_inputs):\n",
    "            max_val = np.amax(img_area, axis=(0, 1))\n",
    "            for k, val in enumerate(max_val):\n",
    "                x, y = np.where(img_area[:, :, k]==val)\n",
    "                x, y = int(x[0]), int(y[0])\n",
    "                changed_output_grad[self.pool_size * i + x, self.pool_size*j + y, k] = changed_gradients[i, j, k]     \n",
    "        out_grad = changed_output_grad.reshape(self.input_shape)\n",
    "        return out_grad"
   ]
  },
  {
   "cell_type": "code",
   "execution_count": 38,
   "metadata": {},
   "outputs": [
    {
     "name": "stdout",
     "output_type": "stream",
     "text": [
      "(3, 3, 8)\n"
     ]
    }
   ],
   "source": [
    "max_layer = Maxpool((7,7, 8),2)\n",
    "img = np.ones((7, 7, 8))\n",
    "out = max_layer.get_output_shape()\n",
    "#print(out)\n",
    "output = max_layer.forward(img)\n",
    "print(output.shape)"
   ]
  },
  {
   "cell_type": "code",
   "execution_count": null,
   "metadata": {},
   "outputs": [],
   "source": [
    "#Testing both the layers \n",
    "#forward phase\n",
    "layer_1 = Conv((28, 28), num_filters=8)\n",
    "#print(layer_1.get_output_shape())\n",
    "img = np.ones((28, 28))\n",
    "output = layer_1.forward(img)\n",
    "max_layer = Maxpool(output.shape,2)\n",
    "out = max_layer.get_output_shape()\n",
    "#print(out)\n",
    "output = max_layer.forward(img)\n",
    "print(output.shape)\n"
   ]
  },
  {
   "cell_type": "code",
   "execution_count": 42,
   "metadata": {},
   "outputs": [
    {
     "name": "stdout",
     "output_type": "stream",
     "text": [
      "(4, 4, 3, 2)\n",
      "(9, 9, 3, 2)\n"
     ]
    }
   ],
   "source": [
    "#checking backprop of the  Maxpool layer\n",
    "max_layer = Maxpool((9, 9, 3, 2), 2)\n",
    "img = np.random.randint(250, size=(9,9,3,2))\n",
    "out_1 = max_layer.forward(img)\n",
    "grad = np.random.randint(10, size=out_1.shape)\n",
    "accha = max_layer.backward(grad)\n",
    "print(grad.shape)\n",
    "print(accha.shape)"
   ]
  },
  {
   "cell_type": "code",
   "execution_count": 106,
   "metadata": {},
   "outputs": [],
   "source": [
    "class Softmax:\n",
    "    def __init__(self, input_len, nodes=100):\n",
    "        self.input_len = input_len\n",
    "        self.output_len = nodes\n",
    "        \n",
    "        #initializing weight and biases\n",
    "        self.W = np.random.randn(self.input_len, self.output_len) / (self.input_len * self.output_len) #shape(output_len, input_len)\n",
    "        self.b = np.zeros(self.output_len)#shape(output_len, )\n",
    "\n",
    "    def forward(self, input_data):\n",
    "        self.original_input_shape = input_data.shape #for backward phase\n",
    "        \n",
    "        #first we will flatten the input data\n",
    "        input_data = input_data.flatten() #shape (input_len, )\n",
    "        input_data = input_data / np.max(input_data)\n",
    "        #input_data = input_data[:, np.newaxis] #shape (input_len, 1)\n",
    "        z = np.dot(input_data, self.W) + self.b #shape (output_len, )\n",
    "        self.last_input = input_data #flattened input for backward phase\n",
    "        #z = z - np.max(z)\n",
    "        self.last_z = z #z vector for backward phase\n",
    "        #if (abs(np.sum(np.exp(z), axis=0))<=10**-8):\n",
    "        #    print(\"z went 0\", z)\n",
    "        return np.exp(z) / np.sum(np.exp(z), axis=0) \n",
    "    \n",
    "    def backward(self, gradients, learn_rate=0.005):\n",
    "        \"\"\" it takes gradients with respect to layer-outputs (dcost/da^(L)) as input, update weights and biases, and\n",
    "        return gradients with respect to the layer-inputs(dcost/da^(L-1))\"\"\"\n",
    "        \n",
    "\n",
    "        #finding the index where gradient is non zero\n",
    "        index = int(np.where(gradients != 0)[0])\n",
    "        \n",
    "        #denominator term of softmax function\n",
    "        S = np.sum(np.exp(self.last_z)) \n",
    "        \n",
    "        #dp_dz vector\n",
    "        dp_dz = np.zeros_like(gradients) #(output_len, )\n",
    "        dp_dz = - (np.exp(self.last_z)[index] * np.exp(self.last_z))/ (S ** 2)\n",
    "        dp_dz[index] = np.exp(self.last_z)[index] *(S - np.exp(self.last_z)[index])/ (S ** 2) \n",
    "\n",
    "        \n",
    "        #dc_dz\n",
    "        dc_dz = gradients[index] * dp_dz\n",
    "        #gradients of cost w.r.t weights, biases and inputs\n",
    "        \n",
    "        \n",
    "        dc_Dw = self.last_input[np.newaxis].T @ dc_dz[np.newaxis] \n",
    "        dc_db = dc_dz\n",
    "        dc_da = self.W @ dc_dz\n",
    "        #update the weights and biases\n",
    "        self.W -= learn_rate * dc_Dw\n",
    "        self.b -= learn_rate * dc_db\n",
    "        \n",
    "        #reshape the input gradients in original input form and return\n",
    "        return dc_da.reshape(self.original_input_shape)"
   ]
  },
  {
   "cell_type": "code",
   "execution_count": 80,
   "metadata": {},
   "outputs": [],
   "source": [
    "input_vect = np.array([[0,1], [1,0]])\n",
    "soft = Softmax(4, 2)\n",
    "out = soft.forward(input_vect)\n"
   ]
  },
  {
   "cell_type": "code",
   "execution_count": 163,
   "metadata": {},
   "outputs": [
    {
     "name": "stdout",
     "output_type": "stream",
     "text": [
      "[0.25906534 0.74093466]\n",
      "[3.7660374e-05 9.9996234e-01]\n"
     ]
    }
   ],
   "source": [
    "#test the softmax\n",
    "input_vect = np.array([[2,2], [1,3]])\n",
    "soft = Softmax(4, 2)\n",
    "out = soft.forward(input_vect)\n",
    "print(out)\n",
    "y = 1\n",
    "for i in range(100):\n",
    "    grad = np.zeros(out.shape)\n",
    "    grad[y] = -1/np.log(out[y])\n",
    "    soft.backward(grad)\n",
    "    out = soft.forward(input_vect)\n",
    "print(out)"
   ]
  },
  {
   "cell_type": "code",
   "execution_count": 215,
   "metadata": {},
   "outputs": [
    {
     "name": "stdout",
     "output_type": "stream",
     "text": [
      "(1000, 28, 28)\n",
      "(1000,)\n"
     ]
    }
   ],
   "source": [
    "##loading the data \n",
    "data = mnist.load_data()\n",
    "((x_train, y_train), (x_test, y_test)) = data\n",
    "x_train, y_train = x_train[:1000], y_train[:1000]\n",
    "print(x_train.shape)\n",
    "print(y_train.shape)"
   ]
  },
  {
   "cell_type": "code",
   "execution_count": 214,
   "metadata": {},
   "outputs": [
    {
     "name": "stdout",
     "output_type": "stream",
     "text": [
      "(1, 28, 28)\n"
     ]
    }
   ],
   "source": [
    "x = x_train[0][np.newaxis,...]\n",
    "print(x.shape)"
   ]
  },
  {
   "cell_type": "code",
   "execution_count": 257,
   "metadata": {},
   "outputs": [],
   "source": [
    "def forward(img, label):\n",
    "    #forward step\n",
    "    out = conv.forward((img[np.newaxis, ...]/255)-0.5)\n",
    "    #out = conv_2.forward(out)\n",
    "    #out = pool.forward(out)\n",
    "    out = soft.forward(out)\n",
    "    #compute loss and accuracy\n",
    "    loss = -max(np.log(out[label]), -10**10) #cross entropy\n",
    "    acc = 1 if (np.argmax(out) == label) else 0\n",
    "    \n",
    "    return out, loss, acc"
   ]
  },
  {
   "cell_type": "code",
   "execution_count": 258,
   "metadata": {},
   "outputs": [],
   "source": [
    "def train(img, label, lr=0.005):\n",
    "    #forward\n",
    "    out, loss, acc = forward(img, label)\n",
    "    \n",
    "    #calculate gradients\n",
    "    gradient = np.zeros(10)\n",
    "    gradient[label] = -1/max(out[label], 10 ** -6)\n",
    "    #print(\"gradient\", gradient)\n",
    "    #backprop\n",
    "    gradient = soft.backward(gradient, lr)\n",
    "    #gradient = pool.backward(gradient)\n",
    "    gradient = conv.backward(gradient)\n",
    "    #print(\"z\", soft.last_z.flatten(), label)\n",
    "    #print(\"p\", out)\n",
    "    #print (\"dc_dz\", soft.dc_dz.flatten())\n",
    "\n",
    "    \n",
    "    return loss, acc"
   ]
  },
  {
   "cell_type": "code",
   "execution_count": 252,
   "metadata": {},
   "outputs": [
    {
     "name": "stdout",
     "output_type": "stream",
     "text": [
      "1250\n",
      "CNN initialized\n",
      "running the epoch; 0\n"
     ]
    },
    {
     "ename": "NameError",
     "evalue": "name 'conv_2' is not defined",
     "output_type": "error",
     "traceback": [
      "\u001b[0;31m---------------------------------------------------------------------------\u001b[0m",
      "\u001b[0;31mNameError\u001b[0m                                 Traceback (most recent call last)",
      "\u001b[0;32m<ipython-input-252-1fb1c622569c>\u001b[0m in \u001b[0;36m<module>\u001b[0;34m()\u001b[0m\n\u001b[1;32m     33\u001b[0m             \u001b[0mnum_correct\u001b[0m \u001b[0;34m=\u001b[0m \u001b[0;36m0\u001b[0m\u001b[0;34m\u001b[0m\u001b[0m\n\u001b[1;32m     34\u001b[0m \u001b[0;34m\u001b[0m\u001b[0m\n\u001b[0;32m---> 35\u001b[0;31m         \u001b[0ml\u001b[0m\u001b[0;34m,\u001b[0m \u001b[0macc\u001b[0m \u001b[0;34m=\u001b[0m \u001b[0mtrain\u001b[0m\u001b[0;34m(\u001b[0m\u001b[0mimg\u001b[0m\u001b[0;34m,\u001b[0m \u001b[0mlabel\u001b[0m\u001b[0;34m)\u001b[0m\u001b[0;34m\u001b[0m\u001b[0m\n\u001b[0m\u001b[1;32m     36\u001b[0m         \u001b[0mloss\u001b[0m \u001b[0;34m+=\u001b[0m \u001b[0ml\u001b[0m\u001b[0;34m\u001b[0m\u001b[0m\n\u001b[1;32m     37\u001b[0m         \u001b[0mnum_correct\u001b[0m \u001b[0;34m+=\u001b[0m \u001b[0macc\u001b[0m\u001b[0;34m\u001b[0m\u001b[0m\n",
      "\u001b[0;32m<ipython-input-251-fc2a0c24962f>\u001b[0m in \u001b[0;36mtrain\u001b[0;34m(img, label, lr)\u001b[0m\n\u001b[1;32m      1\u001b[0m \u001b[0;32mdef\u001b[0m \u001b[0mtrain\u001b[0m\u001b[0;34m(\u001b[0m\u001b[0mimg\u001b[0m\u001b[0;34m,\u001b[0m \u001b[0mlabel\u001b[0m\u001b[0;34m,\u001b[0m \u001b[0mlr\u001b[0m\u001b[0;34m=\u001b[0m\u001b[0;36m0.005\u001b[0m\u001b[0;34m)\u001b[0m\u001b[0;34m:\u001b[0m\u001b[0;34m\u001b[0m\u001b[0m\n\u001b[1;32m      2\u001b[0m     \u001b[0;31m#forward\u001b[0m\u001b[0;34m\u001b[0m\u001b[0;34m\u001b[0m\u001b[0m\n\u001b[0;32m----> 3\u001b[0;31m     \u001b[0mout\u001b[0m\u001b[0;34m,\u001b[0m \u001b[0mloss\u001b[0m\u001b[0;34m,\u001b[0m \u001b[0macc\u001b[0m \u001b[0;34m=\u001b[0m \u001b[0mforward\u001b[0m\u001b[0;34m(\u001b[0m\u001b[0mimg\u001b[0m\u001b[0;34m,\u001b[0m \u001b[0mlabel\u001b[0m\u001b[0;34m)\u001b[0m\u001b[0;34m\u001b[0m\u001b[0m\n\u001b[0m\u001b[1;32m      4\u001b[0m \u001b[0;34m\u001b[0m\u001b[0m\n\u001b[1;32m      5\u001b[0m     \u001b[0;31m#calculate gradients\u001b[0m\u001b[0;34m\u001b[0m\u001b[0;34m\u001b[0m\u001b[0m\n",
      "\u001b[0;32m<ipython-input-250-40c92325870d>\u001b[0m in \u001b[0;36mforward\u001b[0;34m(img, label)\u001b[0m\n\u001b[1;32m      2\u001b[0m     \u001b[0;31m#forward step\u001b[0m\u001b[0;34m\u001b[0m\u001b[0;34m\u001b[0m\u001b[0m\n\u001b[1;32m      3\u001b[0m     \u001b[0mout\u001b[0m \u001b[0;34m=\u001b[0m \u001b[0mconv\u001b[0m\u001b[0;34m.\u001b[0m\u001b[0mforward\u001b[0m\u001b[0;34m(\u001b[0m\u001b[0;34m(\u001b[0m\u001b[0mimg\u001b[0m\u001b[0;34m[\u001b[0m\u001b[0mnp\u001b[0m\u001b[0;34m.\u001b[0m\u001b[0mnewaxis\u001b[0m\u001b[0;34m,\u001b[0m \u001b[0;34m...\u001b[0m\u001b[0;34m]\u001b[0m\u001b[0;34m/\u001b[0m\u001b[0;36m255\u001b[0m\u001b[0;34m)\u001b[0m\u001b[0;34m-\u001b[0m\u001b[0;36m0.5\u001b[0m\u001b[0;34m)\u001b[0m\u001b[0;34m\u001b[0m\u001b[0m\n\u001b[0;32m----> 4\u001b[0;31m     \u001b[0mout\u001b[0m \u001b[0;34m=\u001b[0m \u001b[0mconv_2\u001b[0m\u001b[0;34m.\u001b[0m\u001b[0mforward\u001b[0m\u001b[0;34m(\u001b[0m\u001b[0mout\u001b[0m\u001b[0;34m)\u001b[0m\u001b[0;34m\u001b[0m\u001b[0m\n\u001b[0m\u001b[1;32m      5\u001b[0m     \u001b[0;31m#out = pool.forward(out)\u001b[0m\u001b[0;34m\u001b[0m\u001b[0;34m\u001b[0m\u001b[0m\n\u001b[1;32m      6\u001b[0m     \u001b[0mout\u001b[0m \u001b[0;34m=\u001b[0m \u001b[0msoft\u001b[0m\u001b[0;34m.\u001b[0m\u001b[0mforward\u001b[0m\u001b[0;34m(\u001b[0m\u001b[0mout\u001b[0m\u001b[0;34m)\u001b[0m\u001b[0;34m\u001b[0m\u001b[0m\n",
      "\u001b[0;31mNameError\u001b[0m: name 'conv_2' is not defined"
     ]
    }
   ],
   "source": [
    "input_shape = (1, 28, 28)\n",
    "conv  = Conv(input_shape, filter_shape=(4,4), num_filters=2)\n",
    "conv_shape = conv.get_output_shape()\n",
    "#conv  = Conv(input_shape, filter_shape=(4,4), num_filters=2)\n",
    "#conv_shape = conv.get_output_shape()\n",
    "#pool = Maxpool(conv_shape, 2)\n",
    "#pool_shape = pool.get_output_shape()\n",
    "num_features = np.prod(np.array(conv_shape))\n",
    "print(num_features)\n",
    "output_features = 10\n",
    "soft = Softmax(num_features, output_features)\n",
    "\n",
    "print('CNN initialized')\n",
    "for epoch in range(2):\n",
    "    print(\"running the epoch;\", epoch)\n",
    "    #shuffle the training examples\n",
    "    permutation = np.random.permutation(len(x_train))\n",
    "    x_train = x_train[permutation]\n",
    "    y_train = y_train[permutation]\n",
    "\n",
    "    #Training the forward phase\n",
    "    num_correct = 0\n",
    "    loss = 0\n",
    "    for i, (img, label) in enumerate(zip(x_train, y_train)):\n",
    "        #print(\"count\", i)\n",
    "        if i % 100 == 99:\n",
    "            print(\n",
    "                '[Step %d] Past 100 steps: Average Loss %.3f | Accuracy: %d%%' %\n",
    "                (i + 1, loss / 100, num_correct)\n",
    "            )\n",
    "            #print(\"z\", soft.last_z.flatten(), label)\n",
    "            loss = 0\n",
    "            num_correct = 0\n",
    "\n",
    "        l, acc = train(img, label)\n",
    "        loss += l\n",
    "        num_correct += acc"
   ]
  },
  {
   "cell_type": "code",
   "execution_count": null,
   "metadata": {},
   "outputs": [],
   "source": []
  },
  {
   "cell_type": "code",
   "execution_count": null,
   "metadata": {},
   "outputs": [
    {
     "name": "stdout",
     "output_type": "stream",
     "text": [
      "6760\n",
      "CNN initialized\n",
      "running the epoch; 0\n",
      "[Step 100] Past 100 steps: Average Loss 1.614 | Accuracy: 48%\n",
      "[Step 200] Past 100 steps: Average Loss 1.116 | Accuracy: 59%\n",
      "[Step 300] Past 100 steps: Average Loss 0.878 | Accuracy: 71%\n",
      "[Step 400] Past 100 steps: Average Loss 0.977 | Accuracy: 68%\n",
      "[Step 500] Past 100 steps: Average Loss 0.726 | Accuracy: 77%\n",
      "[Step 600] Past 100 steps: Average Loss 0.993 | Accuracy: 67%\n",
      "[Step 700] Past 100 steps: Average Loss 0.742 | Accuracy: 76%\n",
      "[Step 800] Past 100 steps: Average Loss 0.868 | Accuracy: 69%\n",
      "[Step 900] Past 100 steps: Average Loss 0.743 | Accuracy: 75%\n",
      "[Step 1000] Past 100 steps: Average Loss 0.685 | Accuracy: 75%\n",
      "[Step 1100] Past 100 steps: Average Loss 0.656 | Accuracy: 78%\n",
      "[Step 1200] Past 100 steps: Average Loss 0.663 | Accuracy: 77%\n",
      "[Step 1300] Past 100 steps: Average Loss 0.563 | Accuracy: 80%\n",
      "[Step 1400] Past 100 steps: Average Loss 0.513 | Accuracy: 81%\n",
      "[Step 1500] Past 100 steps: Average Loss 0.908 | Accuracy: 72%\n",
      "[Step 1600] Past 100 steps: Average Loss 0.509 | Accuracy: 80%\n",
      "[Step 1700] Past 100 steps: Average Loss 0.648 | Accuracy: 80%\n",
      "[Step 1800] Past 100 steps: Average Loss 0.730 | Accuracy: 78%\n",
      "[Step 1900] Past 100 steps: Average Loss 0.677 | Accuracy: 75%\n",
      "[Step 2000] Past 100 steps: Average Loss 0.613 | Accuracy: 74%\n",
      "running the epoch; 1\n",
      "[Step 100] Past 100 steps: Average Loss 0.425 | Accuracy: 86%\n",
      "[Step 200] Past 100 steps: Average Loss 0.408 | Accuracy: 85%\n",
      "[Step 300] Past 100 steps: Average Loss 0.715 | Accuracy: 78%\n",
      "[Step 400] Past 100 steps: Average Loss 0.401 | Accuracy: 88%\n",
      "[Step 500] Past 100 steps: Average Loss 0.497 | Accuracy: 86%\n",
      "[Step 600] Past 100 steps: Average Loss 0.532 | Accuracy: 83%\n",
      "[Step 700] Past 100 steps: Average Loss 0.332 | Accuracy: 88%\n",
      "[Step 800] Past 100 steps: Average Loss 0.462 | Accuracy: 82%\n",
      "[Step 900] Past 100 steps: Average Loss 0.529 | Accuracy: 83%\n",
      "[Step 1000] Past 100 steps: Average Loss 0.305 | Accuracy: 92%\n",
      "[Step 1100] Past 100 steps: Average Loss 0.427 | Accuracy: 86%\n",
      "[Step 1200] Past 100 steps: Average Loss 0.537 | Accuracy: 80%\n",
      "[Step 1300] Past 100 steps: Average Loss 0.598 | Accuracy: 79%\n",
      "[Step 1400] Past 100 steps: Average Loss 0.576 | Accuracy: 81%\n",
      "[Step 1500] Past 100 steps: Average Loss 0.461 | Accuracy: 87%\n",
      "[Step 1600] Past 100 steps: Average Loss 0.501 | Accuracy: 83%\n",
      "[Step 1700] Past 100 steps: Average Loss 0.367 | Accuracy: 91%\n",
      "[Step 1800] Past 100 steps: Average Loss 0.405 | Accuracy: 87%\n"
     ]
    }
   ],
   "source": [
    "input_shape = (1, 28, 28)\n",
    "conv  = Conv(input_shape, filter_shape=(3,3), num_filters=10)\n",
    "conv_shape = conv.get_output_shape()\n",
    "#conv_2 = Conv(conv_shape, filter_shape=(3,3), num_filters=3)\n",
    "#conv_2_shape = conv_2.get_output_shape()\n",
    "#conv  = Conv(input_shape, filter_shape=(4,4), num_filters=2)\n",
    "#conv_shape = conv.get_output_shape()\n",
    "#pool = Maxpool(conv_shape, 2)\n",
    "#pool_shape = pool.get_output_shape()\n",
    "num_features = np.prod(np.array(conv_shape))\n",
    "print(num_features)\n",
    "output_features = 10\n",
    "soft = Softmax(num_features, output_features)\n",
    "\n",
    "print('CNN initialized')\n",
    "for epoch in range(3):\n",
    "    print(\"running the epoch;\", epoch)\n",
    "    #shuffle the training examples\n",
    "    permutation = np.random.permutation(len(x_train))\n",
    "    x_train = x_train[permutation]\n",
    "    y_train = y_train[permutation]\n",
    "\n",
    "    #Training the forward phase\n",
    "    num_correct = 0\n",
    "    loss = 0\n",
    "    for i, (img, label) in enumerate(zip(x_train, y_train)):\n",
    "        #print(\"count\", i)\n",
    "        if i % 100 == 99:\n",
    "            print(\n",
    "                '[Step %d] Past 100 steps: Average Loss %.3f | Accuracy: %d%%' %\n",
    "                (i + 1, loss / 100, num_correct)\n",
    "            )\n",
    "            #print(\"z\", soft.last_z.flatten(), label)\n",
    "            loss = 0\n",
    "            num_correct = 0\n",
    "\n",
    "        l, acc = train(img, label)\n",
    "        loss += l\n",
    "        num_correct += acc"
   ]
  },
  {
   "cell_type": "code",
   "execution_count": 228,
   "metadata": {},
   "outputs": [
    {
     "data": {
      "image/png": "[encoded data removed]",
      "text/plain": [
       "<matplotlib.figure.Figure at 0x7fdd7f2c24a8>"
      ]
     },
     "metadata": {},
     "output_type": "display_data"
    }
   ],
   "source": [
    "#visualizing the filters\n",
    "img = x_train[3]\n",
    "plt.imshow(img, cmap='gray', vmin=0, vmax=255)\n",
    "img = img[np.newaxis, ...]\n",
    "out = conv.forward(img)"
   ]
  },
  {
   "cell_type": "code",
   "execution_count": 233,
   "metadata": {},
   "outputs": [
    {
     "data": {
      "text/plain": [
       "<matplotlib.image.AxesImage at 0x7fdd7f06fe48>"
      ]
     },
     "execution_count": 233,
     "metadata": {},
     "output_type": "execute_result"
    },
    {
     "data": {
      "image/png": "[encoded data removed]",
      "text/plain": [
       "<matplotlib.figure.Figure at 0x7fdd7f0b2588>"
      ]
     },
     "metadata": {},
     "output_type": "display_data"
    }
   ],
   "source": [
    "plt.imshow(out[4], cmap='gray', vmin=0, vmax=255)"
   ]
  },
  {
   "cell_type": "code",
   "execution_count": 204,
   "metadata": {},
   "outputs": [
    {
     "data": {
      "text/plain": [
       "array([[-0.13901809,  0.12804853,  0.05074609],\n",
       "       [ 0.00905267, -0.0960619 ,  0.18055336],\n",
       "       [ 0.09185021,  0.19787026,  0.00338203]])"
      ]
     },
     "execution_count": 204,
     "metadata": {},
     "output_type": "execute_result"
    }
   ],
   "source": [
    "conv.filters[2, 0]"
   ]
  },
  {
   "cell_type": "code",
   "execution_count": 196,
   "metadata": {},
   "outputs": [],
   "source": [
    "from keras.datasets import fashion_mnist"
   ]
  },
  {
   "cell_type": "code",
   "execution_count": 236,
   "metadata": {},
   "outputs": [],
   "source": [
    "(x_train, y_train), (x_test, y_test) = fashion_mnist.load_data()\n",
    "x_train, y_train = x_train[:2000], y_train[:2000]"
   ]
  },
  {
   "cell_type": "code",
   "execution_count": 242,
   "metadata": {},
   "outputs": [
    {
     "data": {
      "text/plain": [
       "array([0, 1, 2, 3, 4, 5, 6, 7, 8, 9], dtype=uint8)"
      ]
     },
     "execution_count": 242,
     "metadata": {},
     "output_type": "execute_result"
    }
   ],
   "source": []
  },
  {
   "cell_type": "code",
   "execution_count": 249,
   "metadata": {},
   "outputs": [
    {
     "name": "stdout",
     "output_type": "stream",
     "text": [
      "4608\n",
      "CNN initialized\n",
      "running the epoch; 0\n",
      "[Step 100] Past 100 steps: Average Loss 1.552 | Accuracy: 46%\n",
      "[Step 200] Past 100 steps: Average Loss 1.117 | Accuracy: 60%\n",
      "[Step 300] Past 100 steps: Average Loss 0.899 | Accuracy: 66%\n",
      "[Step 400] Past 100 steps: Average Loss 0.798 | Accuracy: 73%\n",
      "[Step 500] Past 100 steps: Average Loss 0.995 | Accuracy: 63%\n",
      "[Step 600] Past 100 steps: Average Loss 0.891 | Accuracy: 67%\n",
      "[Step 700] Past 100 steps: Average Loss 0.874 | Accuracy: 72%\n",
      "[Step 800] Past 100 steps: Average Loss 0.776 | Accuracy: 72%\n",
      "[Step 900] Past 100 steps: Average Loss 0.757 | Accuracy: 76%\n",
      "[Step 1000] Past 100 steps: Average Loss 0.774 | Accuracy: 72%\n",
      "[Step 1100] Past 100 steps: Average Loss 0.705 | Accuracy: 76%\n",
      "[Step 1200] Past 100 steps: Average Loss 0.825 | Accuracy: 78%\n",
      "[Step 1300] Past 100 steps: Average Loss 0.796 | Accuracy: 73%\n",
      "[Step 1400] Past 100 steps: Average Loss 0.680 | Accuracy: 79%\n",
      "[Step 1500] Past 100 steps: Average Loss 0.578 | Accuracy: 79%\n",
      "[Step 1600] Past 100 steps: Average Loss 0.511 | Accuracy: 82%\n",
      "[Step 1700] Past 100 steps: Average Loss 0.532 | Accuracy: 80%\n",
      "[Step 1800] Past 100 steps: Average Loss 0.537 | Accuracy: 75%\n",
      "[Step 1900] Past 100 steps: Average Loss 0.595 | Accuracy: 78%\n",
      "[Step 2000] Past 100 steps: Average Loss 0.712 | Accuracy: 74%\n",
      "running the epoch; 1\n",
      "[Step 100] Past 100 steps: Average Loss 0.524 | Accuracy: 82%\n",
      "[Step 200] Past 100 steps: Average Loss 0.426 | Accuracy: 85%\n",
      "[Step 300] Past 100 steps: Average Loss 0.459 | Accuracy: 85%\n",
      "[Step 400] Past 100 steps: Average Loss 0.540 | Accuracy: 80%\n",
      "[Step 500] Past 100 steps: Average Loss 0.427 | Accuracy: 87%\n",
      "[Step 600] Past 100 steps: Average Loss 0.629 | Accuracy: 80%\n",
      "[Step 700] Past 100 steps: Average Loss 0.518 | Accuracy: 81%\n",
      "[Step 800] Past 100 steps: Average Loss 0.439 | Accuracy: 88%\n",
      "[Step 900] Past 100 steps: Average Loss 0.675 | Accuracy: 77%\n",
      "[Step 1000] Past 100 steps: Average Loss 0.596 | Accuracy: 79%\n",
      "[Step 1100] Past 100 steps: Average Loss 0.562 | Accuracy: 80%\n",
      "[Step 1200] Past 100 steps: Average Loss 0.573 | Accuracy: 83%\n",
      "[Step 1300] Past 100 steps: Average Loss 0.529 | Accuracy: 84%\n",
      "[Step 1400] Past 100 steps: Average Loss 0.650 | Accuracy: 78%\n",
      "[Step 1500] Past 100 steps: Average Loss 0.610 | Accuracy: 79%\n",
      "[Step 1600] Past 100 steps: Average Loss 0.524 | Accuracy: 83%\n",
      "[Step 1700] Past 100 steps: Average Loss 0.710 | Accuracy: 75%\n",
      "[Step 1800] Past 100 steps: Average Loss 0.507 | Accuracy: 85%\n",
      "[Step 1900] Past 100 steps: Average Loss 0.532 | Accuracy: 82%\n",
      "[Step 2000] Past 100 steps: Average Loss 0.614 | Accuracy: 78%\n"
     ]
    }
   ],
   "source": [
    "input_shape = (1, 28, 28)\n",
    "conv  = Conv(input_shape, filter_shape=(5,5), num_filters=8)\n",
    "conv_shape = conv.get_output_shape()\n",
    "#conv  = Conv(input_shape, filter_shape=(4,4), num_filters=2)\n",
    "#conv_shape = conv.get_output_shape()\n",
    "#pool = Maxpool(conv_shape, 2)\n",
    "#pool_shape = pool.get_output_shape()\n",
    "num_features = np.prod(np.array(conv_shape))\n",
    "print(num_features)\n",
    "output_features = 10\n",
    "soft = Softmax(num_features, output_features)\n",
    "\n",
    "print('CNN initialized')\n",
    "for epoch in range(2):\n",
    "    print(\"running the epoch;\", epoch)\n",
    "    #shuffle the training examples\n",
    "    permutation = np.random.permutation(len(x_train))\n",
    "    x_train = x_train[permutation]\n",
    "    y_train = y_train[permutation]\n",
    "\n",
    "    #Training the forward phase\n",
    "    num_correct = 0\n",
    "    loss = 0\n",
    "    for i, (img, label) in enumerate(zip(x_train, y_train)):\n",
    "        #print(\"count\", i)\n",
    "        if i % 100 == 99:\n",
    "            print(\n",
    "                '[Step %d] Past 100 steps: Average Loss %.3f | Accuracy: %d%%' %\n",
    "                (i + 1, loss / 100, num_correct)\n",
    "            )\n",
    "            #print(\"z\", soft.last_z.flatten(), label)\n",
    "            loss = 0\n",
    "            num_correct = 0\n",
    "\n",
    "        l, acc = train(img, label)\n",
    "        loss += l\n",
    "        num_correct += acc"
   ]
  }
 ],
 "metadata": {
  "kernelspec": {
   "display_name": "Python 3",
   "language": "python",
   "name": "python3"
  },
  "language_info": {
   "codemirror_mode": {
    "name": "ipython",
    "version": 3
   },
   "file_extension": ".py",
   "mimetype": "text/x-python",
   "name": "python",
   "nbconvert_exporter": "python",
   "pygments_lexer": "ipython3",
   "version": "3.5.2"
  }
 },
 "nbformat": 4,
 "nbformat_minor": 2
}
